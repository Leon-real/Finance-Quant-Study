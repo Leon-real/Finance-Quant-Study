{
 "cells": [
  {
   "cell_type": "code",
   "execution_count": 109,
   "id": "b4b910ab",
   "metadata": {},
   "outputs": [],
   "source": [
    "import pandas as pd\n",
    "from datetime import date\n",
    "from dateutil.relativedelta import relativedelta\n",
    "import requests as rq\n",
    "from io import BytesIO\n",
    "import re\n",
    "import numpy as np"
   ]
  },
  {
   "cell_type": "code",
   "execution_count": 110,
   "id": "cbce58d9",
   "metadata": {},
   "outputs": [],
   "source": [
    "df = pd.read_excel('../stocks.xlsx', engine='openpyxl')\n",
    "tickers = df['종목코드']\n",
    "\n",
    "new_df = df[['종목코드','종목명']]\n",
    "# new_df.set_index('종목코드', inplace=True) # 인덱스 설정\n",
    "\n",
    "# 1년 기간동안의 종가 데이터 받기\n",
    "fr = (date.today() + relativedelta(years=-1)).strftime('%Y%m%d') # 1년간 기간\n",
    "to = (date.today()).strftime('%Y%m%d') # 오늘 날짜\n",
    "temp_df = pd.DataFrame(['종목코드'])"
   ]
  },
  {
   "cell_type": "code",
   "execution_count": 114,
   "id": "e1dda7a7",
   "metadata": {},
   "outputs": [
    {
     "name": "stdout",
     "output_type": "stream",
     "text": [
      "095570 -0.16319444444444442\n",
      "054620 0.03817427385892125\n",
      "265520 -0.1452282157676349\n"
     ]
    }
   ],
   "source": [
    "code_lists = []\n",
    "return_values =[]\n",
    "for ticker in tickers[:3]:\n",
    "    ticker = str(ticker).zfill(6)\n",
    "    url = f'''https://fchart.stock.naver.com/siseJson.nhn?symbol={ticker}&requestType=1&startTime={fr}&endTime={to}&timeframe=day'''\n",
    "    data = rq.get(url).content\n",
    "    data_price = pd.read_csv(BytesIO(data), encoding='utf-8')\n",
    "\n",
    "    # 데이터 전처리\n",
    "    price = data_price.iloc[:, 0:6]\n",
    "    price.columns = ['날짜','시가','고가','저가','종가','거래량']\n",
    "    price = price.dropna()\n",
    "    price['날짜'] = price['날짜'].str.extract('(\\d+)')\n",
    "    price['날짜'] = pd.to_datetime(price['날짜'])\n",
    "    price = pd.DataFrame(price)\n",
    "    \n",
    "    # 1년간 누적 수익률 구하기\n",
    "    return_value = (price['종가'].iloc[-1] / price['종가'].iloc[0]) - 1\n",
    "    print(ticker, return_value)\n",
    "    code_lists.append(ticker)\n",
    "    return_values.append(return_value)\n",
    "    "
   ]
  },
  {
   "cell_type": "code",
   "execution_count": 122,
   "id": "c4e3133d",
   "metadata": {},
   "outputs": [
    {
     "data": {
      "text/html": [
       "<div>\n",
       "<style scoped>\n",
       "    .dataframe tbody tr th:only-of-type {\n",
       "        vertical-align: middle;\n",
       "    }\n",
       "\n",
       "    .dataframe tbody tr th {\n",
       "        vertical-align: top;\n",
       "    }\n",
       "\n",
       "    .dataframe thead th {\n",
       "        text-align: right;\n",
       "    }\n",
       "</style>\n",
       "<table border=\"1\" class=\"dataframe\">\n",
       "  <thead>\n",
       "    <tr style=\"text-align: right;\">\n",
       "      <th></th>\n",
       "      <th>종목코드</th>\n",
       "      <th>return</th>\n",
       "    </tr>\n",
       "  </thead>\n",
       "  <tbody>\n",
       "    <tr>\n",
       "      <th>0</th>\n",
       "      <td>095570</td>\n",
       "      <td>-0.163194</td>\n",
       "    </tr>\n",
       "    <tr>\n",
       "      <th>1</th>\n",
       "      <td>054620</td>\n",
       "      <td>0.038174</td>\n",
       "    </tr>\n",
       "    <tr>\n",
       "      <th>2</th>\n",
       "      <td>265520</td>\n",
       "      <td>-0.145228</td>\n",
       "    </tr>\n",
       "  </tbody>\n",
       "</table>\n",
       "</div>"
      ],
      "text/plain": [
       "     종목코드    return\n",
       "0  095570 -0.163194\n",
       "1  054620  0.038174\n",
       "2  265520 -0.145228"
      ]
     },
     "execution_count": 122,
     "metadata": {},
     "output_type": "execute_result"
    }
   ],
   "source": [
    "pd.DataFrame({'종목코드':code_lists, 'return':return_values})"
   ]
  },
  {
   "cell_type": "code",
   "execution_count": null,
   "id": "e46a4930",
   "metadata": {},
   "outputs": [],
   "source": []
  },
  {
   "cell_type": "code",
   "execution_count": null,
   "id": "5ec647f9",
   "metadata": {},
   "outputs": [],
   "source": []
  },
  {
   "cell_type": "code",
   "execution_count": null,
   "id": "f008ff22",
   "metadata": {},
   "outputs": [],
   "source": []
  },
  {
   "cell_type": "code",
   "execution_count": null,
   "id": "e5c9d475",
   "metadata": {},
   "outputs": [],
   "source": []
  },
  {
   "cell_type": "code",
   "execution_count": null,
   "id": "7ce2604d",
   "metadata": {},
   "outputs": [],
   "source": []
  }
 ],
 "metadata": {
  "kernelspec": {
   "display_name": "Python 3 (ipykernel)",
   "language": "python",
   "name": "python3"
  },
  "language_info": {
   "codemirror_mode": {
    "name": "ipython",
    "version": 3
   },
   "file_extension": ".py",
   "mimetype": "text/x-python",
   "name": "python",
   "nbconvert_exporter": "python",
   "pygments_lexer": "ipython3",
   "version": "3.9.7"
  }
 },
 "nbformat": 4,
 "nbformat_minor": 5
}
