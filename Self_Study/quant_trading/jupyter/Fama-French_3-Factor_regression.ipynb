{
 "cells": [
  {
   "cell_type": "code",
   "execution_count": 3,
   "metadata": {
    "id": "dk2anCSBX-xS"
   },
   "outputs": [],
   "source": [
    "# getFamaFrenchFactors 패키지 설치\n",
    "!pip install getFamaFrenchFactors --quiet"
   ]
  },
  {
   "cell_type": "code",
   "execution_count": 4,
   "metadata": {
    "id": "lWI-48pbX7TS",
    "scrolled": true
   },
   "outputs": [],
   "source": [
    "import pandas as pd\n",
    "import yfinance as yf\n",
    "import statsmodels.api as sm\n",
    "import getFamaFrenchFactors as gff"
   ]
  },
  {
   "cell_type": "markdown",
   "metadata": {
    "id": "ptHn06fOm65q"
   },
   "source": [
    "### 애플 과거 주가 데이터 다운로드"
   ]
  },
  {
   "cell_type": "code",
   "execution_count": 9,
   "metadata": {
    "id": "gDVgQZBFm4-E"
   },
   "outputs": [
    {
     "name": "stdout",
     "output_type": "stream",
     "text": [
      "[*********************100%%**********************]  1 of 1 completed\n"
     ]
    }
   ],
   "source": [
    "# 주가 데이터 다운로드\n",
    "# 애플 주식 티커\n",
    "ticker = 'AAPL'\n",
    "\n",
    "# 데이터 시작일과 종료일\n",
    "start = '2000-01-01'\n",
    "\n",
    "# 데이터 다운로드\n",
    "stock_data = yf.download(ticker, start)\n",
    "\n",
    "# 주가 수익률 계산\n",
    "stock_returns = stock_data['Adj Close'].resample('M').last().pct_change().dropna()\n",
    "stock_returns.name = 'Month_Rtn'\n",
    "stock_returns.index = pd.to_datetime(stock_returns.index).date"
   ]
  },
  {
   "cell_type": "markdown",
   "metadata": {
    "id": "L491q6M6nSPw"
   },
   "source": [
    "### 파마-프렌치 3 팩터 데이터 다운로드"
   ]
  },
  {
   "cell_type": "code",
   "execution_count": 15,
   "metadata": {
    "id": "oYAtWJK3nZqs"
   },
   "outputs": [],
   "source": [
    "# 파마-프렌치 3 팩터 데이터 다운로드\n",
    "ff3_monthly = gff.famaFrench3Factor(frequency='m')\n",
    "ff3_monthly.rename(columns={'date_ff_factors': 'Date'}, inplace=True)\n",
    "ff3_monthly.set_index('Date', inplace=True)\n",
    "ff3_monthly.index = pd.to_datetime(ff3_monthly.index).date\n",
    "\n",
    "# 팩터 데이터와 주가 데이터 병합\n",
    "ff_data = pd.concat([ff3_monthly, stock_returns], axis=1, join='inner')"
   ]
  },
  {
   "cell_type": "code",
   "execution_count": 16,
   "metadata": {
    "id": "XAAQV-IuVqOL"
   },
   "outputs": [
    {
     "data": {
      "text/html": [
       "<div>\n",
       "<style scoped>\n",
       "    .dataframe tbody tr th:only-of-type {\n",
       "        vertical-align: middle;\n",
       "    }\n",
       "\n",
       "    .dataframe tbody tr th {\n",
       "        vertical-align: top;\n",
       "    }\n",
       "\n",
       "    .dataframe thead th {\n",
       "        text-align: right;\n",
       "    }\n",
       "</style>\n",
       "<table border=\"1\" class=\"dataframe\">\n",
       "  <thead>\n",
       "    <tr style=\"text-align: right;\">\n",
       "      <th></th>\n",
       "      <th>Mkt-RF</th>\n",
       "      <th>SMB</th>\n",
       "      <th>HML</th>\n",
       "      <th>RF</th>\n",
       "      <th>Month_Rtn</th>\n",
       "    </tr>\n",
       "  </thead>\n",
       "  <tbody>\n",
       "    <tr>\n",
       "      <th>2000-02-29</th>\n",
       "      <td>0.0245</td>\n",
       "      <td>0.2136</td>\n",
       "      <td>-0.0959</td>\n",
       "      <td>0.0043</td>\n",
       "      <td>0.104820</td>\n",
       "    </tr>\n",
       "    <tr>\n",
       "      <th>2000-03-31</th>\n",
       "      <td>0.0520</td>\n",
       "      <td>-0.1720</td>\n",
       "      <td>0.0813</td>\n",
       "      <td>0.0047</td>\n",
       "      <td>0.184841</td>\n",
       "    </tr>\n",
       "    <tr>\n",
       "      <th>2000-04-30</th>\n",
       "      <td>-0.0640</td>\n",
       "      <td>-0.0668</td>\n",
       "      <td>0.0726</td>\n",
       "      <td>0.0046</td>\n",
       "      <td>-0.086516</td>\n",
       "    </tr>\n",
       "    <tr>\n",
       "      <th>2000-05-31</th>\n",
       "      <td>-0.0442</td>\n",
       "      <td>-0.0605</td>\n",
       "      <td>0.0475</td>\n",
       "      <td>0.0050</td>\n",
       "      <td>-0.322922</td>\n",
       "    </tr>\n",
       "    <tr>\n",
       "      <th>2000-06-30</th>\n",
       "      <td>0.0464</td>\n",
       "      <td>0.1284</td>\n",
       "      <td>-0.0842</td>\n",
       "      <td>0.0040</td>\n",
       "      <td>0.247024</td>\n",
       "    </tr>\n",
       "    <tr>\n",
       "      <th>...</th>\n",
       "      <td>...</td>\n",
       "      <td>...</td>\n",
       "      <td>...</td>\n",
       "      <td>...</td>\n",
       "      <td>...</td>\n",
       "    </tr>\n",
       "    <tr>\n",
       "      <th>2023-03-31</th>\n",
       "      <td>0.0251</td>\n",
       "      <td>-0.0551</td>\n",
       "      <td>-0.0885</td>\n",
       "      <td>0.0036</td>\n",
       "      <td>0.118649</td>\n",
       "    </tr>\n",
       "    <tr>\n",
       "      <th>2023-04-30</th>\n",
       "      <td>0.0061</td>\n",
       "      <td>-0.0335</td>\n",
       "      <td>-0.0004</td>\n",
       "      <td>0.0035</td>\n",
       "      <td>0.028987</td>\n",
       "    </tr>\n",
       "    <tr>\n",
       "      <th>2023-05-31</th>\n",
       "      <td>0.0035</td>\n",
       "      <td>0.0161</td>\n",
       "      <td>-0.0772</td>\n",
       "      <td>0.0036</td>\n",
       "      <td>0.046058</td>\n",
       "    </tr>\n",
       "    <tr>\n",
       "      <th>2023-06-30</th>\n",
       "      <td>0.0646</td>\n",
       "      <td>0.0154</td>\n",
       "      <td>-0.0026</td>\n",
       "      <td>0.0040</td>\n",
       "      <td>0.094330</td>\n",
       "    </tr>\n",
       "    <tr>\n",
       "      <th>2023-07-31</th>\n",
       "      <td>0.0321</td>\n",
       "      <td>0.0207</td>\n",
       "      <td>0.0413</td>\n",
       "      <td>0.0045</td>\n",
       "      <td>0.012785</td>\n",
       "    </tr>\n",
       "  </tbody>\n",
       "</table>\n",
       "<p>282 rows × 5 columns</p>\n",
       "</div>"
      ],
      "text/plain": [
       "            Mkt-RF     SMB     HML      RF  Month_Rtn\n",
       "2000-02-29  0.0245  0.2136 -0.0959  0.0043   0.104820\n",
       "2000-03-31  0.0520 -0.1720  0.0813  0.0047   0.184841\n",
       "2000-04-30 -0.0640 -0.0668  0.0726  0.0046  -0.086516\n",
       "2000-05-31 -0.0442 -0.0605  0.0475  0.0050  -0.322922\n",
       "2000-06-30  0.0464  0.1284 -0.0842  0.0040   0.247024\n",
       "...            ...     ...     ...     ...        ...\n",
       "2023-03-31  0.0251 -0.0551 -0.0885  0.0036   0.118649\n",
       "2023-04-30  0.0061 -0.0335 -0.0004  0.0035   0.028987\n",
       "2023-05-31  0.0035  0.0161 -0.0772  0.0036   0.046058\n",
       "2023-06-30  0.0646  0.0154 -0.0026  0.0040   0.094330\n",
       "2023-07-31  0.0321  0.0207  0.0413  0.0045   0.012785\n",
       "\n",
       "[282 rows x 5 columns]"
      ]
     },
     "execution_count": 16,
     "metadata": {},
     "output_type": "execute_result"
    }
   ],
   "source": [
    "ff_data"
   ]
  },
  {
   "cell_type": "code",
   "execution_count": 17,
   "metadata": {
    "id": "ku7hLv65wXvp"
   },
   "outputs": [
    {
     "data": {
      "text/html": [
       "<div>\n",
       "<style scoped>\n",
       "    .dataframe tbody tr th:only-of-type {\n",
       "        vertical-align: middle;\n",
       "    }\n",
       "\n",
       "    .dataframe tbody tr th {\n",
       "        vertical-align: top;\n",
       "    }\n",
       "\n",
       "    .dataframe thead th {\n",
       "        text-align: right;\n",
       "    }\n",
       "</style>\n",
       "<table border=\"1\" class=\"dataframe\">\n",
       "  <thead>\n",
       "    <tr style=\"text-align: right;\">\n",
       "      <th></th>\n",
       "      <th>beta</th>\n",
       "      <th>size</th>\n",
       "      <th>value</th>\n",
       "      <th>rf</th>\n",
       "      <th>ret</th>\n",
       "    </tr>\n",
       "  </thead>\n",
       "  <tbody>\n",
       "    <tr>\n",
       "      <th>2000-02-29</th>\n",
       "      <td>0.0245</td>\n",
       "      <td>0.2136</td>\n",
       "      <td>-0.0959</td>\n",
       "      <td>0.0043</td>\n",
       "      <td>0.104820</td>\n",
       "    </tr>\n",
       "    <tr>\n",
       "      <th>2000-03-31</th>\n",
       "      <td>0.0520</td>\n",
       "      <td>-0.1720</td>\n",
       "      <td>0.0813</td>\n",
       "      <td>0.0047</td>\n",
       "      <td>0.184841</td>\n",
       "    </tr>\n",
       "    <tr>\n",
       "      <th>2000-04-30</th>\n",
       "      <td>-0.0640</td>\n",
       "      <td>-0.0668</td>\n",
       "      <td>0.0726</td>\n",
       "      <td>0.0046</td>\n",
       "      <td>-0.086516</td>\n",
       "    </tr>\n",
       "    <tr>\n",
       "      <th>2000-05-31</th>\n",
       "      <td>-0.0442</td>\n",
       "      <td>-0.0605</td>\n",
       "      <td>0.0475</td>\n",
       "      <td>0.0050</td>\n",
       "      <td>-0.322922</td>\n",
       "    </tr>\n",
       "    <tr>\n",
       "      <th>2000-06-30</th>\n",
       "      <td>0.0464</td>\n",
       "      <td>0.1284</td>\n",
       "      <td>-0.0842</td>\n",
       "      <td>0.0040</td>\n",
       "      <td>0.247024</td>\n",
       "    </tr>\n",
       "    <tr>\n",
       "      <th>...</th>\n",
       "      <td>...</td>\n",
       "      <td>...</td>\n",
       "      <td>...</td>\n",
       "      <td>...</td>\n",
       "      <td>...</td>\n",
       "    </tr>\n",
       "    <tr>\n",
       "      <th>2023-03-31</th>\n",
       "      <td>0.0251</td>\n",
       "      <td>-0.0551</td>\n",
       "      <td>-0.0885</td>\n",
       "      <td>0.0036</td>\n",
       "      <td>0.118649</td>\n",
       "    </tr>\n",
       "    <tr>\n",
       "      <th>2023-04-30</th>\n",
       "      <td>0.0061</td>\n",
       "      <td>-0.0335</td>\n",
       "      <td>-0.0004</td>\n",
       "      <td>0.0035</td>\n",
       "      <td>0.028987</td>\n",
       "    </tr>\n",
       "    <tr>\n",
       "      <th>2023-05-31</th>\n",
       "      <td>0.0035</td>\n",
       "      <td>0.0161</td>\n",
       "      <td>-0.0772</td>\n",
       "      <td>0.0036</td>\n",
       "      <td>0.046058</td>\n",
       "    </tr>\n",
       "    <tr>\n",
       "      <th>2023-06-30</th>\n",
       "      <td>0.0646</td>\n",
       "      <td>0.0154</td>\n",
       "      <td>-0.0026</td>\n",
       "      <td>0.0040</td>\n",
       "      <td>0.094330</td>\n",
       "    </tr>\n",
       "    <tr>\n",
       "      <th>2023-07-31</th>\n",
       "      <td>0.0321</td>\n",
       "      <td>0.0207</td>\n",
       "      <td>0.0413</td>\n",
       "      <td>0.0045</td>\n",
       "      <td>0.012785</td>\n",
       "    </tr>\n",
       "  </tbody>\n",
       "</table>\n",
       "<p>282 rows × 5 columns</p>\n",
       "</div>"
      ],
      "text/plain": [
       "              beta    size   value      rf       ret\n",
       "2000-02-29  0.0245  0.2136 -0.0959  0.0043  0.104820\n",
       "2000-03-31  0.0520 -0.1720  0.0813  0.0047  0.184841\n",
       "2000-04-30 -0.0640 -0.0668  0.0726  0.0046 -0.086516\n",
       "2000-05-31 -0.0442 -0.0605  0.0475  0.0050 -0.322922\n",
       "2000-06-30  0.0464  0.1284 -0.0842  0.0040  0.247024\n",
       "...            ...     ...     ...     ...       ...\n",
       "2023-03-31  0.0251 -0.0551 -0.0885  0.0036  0.118649\n",
       "2023-04-30  0.0061 -0.0335 -0.0004  0.0035  0.028987\n",
       "2023-05-31  0.0035  0.0161 -0.0772  0.0036  0.046058\n",
       "2023-06-30  0.0646  0.0154 -0.0026  0.0040  0.094330\n",
       "2023-07-31  0.0321  0.0207  0.0413  0.0045  0.012785\n",
       "\n",
       "[282 rows x 5 columns]"
      ]
     },
     "execution_count": 17,
     "metadata": {},
     "output_type": "execute_result"
    }
   ],
   "source": [
    "# ff_data 데이터프레임 칼럼 이름 변경\n",
    "ff_data.columns = ['beta', 'size', 'value', 'rf', 'ret']\n",
    "\n",
    "# 결과\n",
    "ff_data"
   ]
  },
  {
   "cell_type": "markdown",
   "metadata": {
    "id": "rv9fvoJ_nfDh"
   },
   "source": [
    "### 파마-프렌치 3 팩터 모델로 주가 선형 회귀 분석"
   ]
  },
  {
   "cell_type": "code",
   "execution_count": 18,
   "metadata": {
    "id": "so7xU0UAYNgE"
   },
   "outputs": [
    {
     "name": "stdout",
     "output_type": "stream",
     "text": [
      "                                 OLS Regression Results                                \n",
      "=======================================================================================\n",
      "Dep. Variable:                      y   R-squared (uncentered):                   0.376\n",
      "Model:                            OLS   Adj. R-squared (uncentered):              0.369\n",
      "Method:                 Least Squares   F-statistic:                              55.98\n",
      "Date:                Mon, 30 Oct 2023   Prob (F-statistic):                    2.34e-28\n",
      "Time:                        15:41:58   Log-Likelihood:                          274.75\n",
      "No. Observations:                 282   AIC:                                     -543.5\n",
      "Df Residuals:                     279   BIC:                                     -532.6\n",
      "Df Model:                           3                                                  \n",
      "Covariance Type:            nonrobust                                                  \n",
      "==============================================================================\n",
      "                 coef    std err          t      P>|t|      [0.025      0.975]\n",
      "------------------------------------------------------------------------------\n",
      "beta           1.3763      0.123     11.218      0.000       1.135       1.618\n",
      "size           0.1096      0.181      0.606      0.545      -0.246       0.466\n",
      "value         -0.7507      0.158     -4.766      0.000      -1.061      -0.441\n",
      "==============================================================================\n",
      "Omnibus:                       31.362   Durbin-Watson:                   1.895\n",
      "Prob(Omnibus):                  0.000   Jarque-Bera (JB):              168.284\n",
      "Skew:                          -0.103   Prob(JB):                     2.87e-37\n",
      "Kurtosis:                       6.779   Cond. No.                         1.68\n",
      "==============================================================================\n",
      "\n",
      "Notes:\n",
      "[1] R² is computed without centering (uncentered) since the model does not contain a constant.\n",
      "[2] Standard Errors assume that the covariance matrix of the errors is correctly specified.\n"
     ]
    }
   ],
   "source": [
    "# 회귀분석 설명변수: 베타, 사이즈, 밸류\n",
    "X = ff_data[['beta', 'size', 'value']]\n",
    "\n",
    "# 회귀분석 종속변수: 애플 주식의 무위험 초과 수익률\n",
    "y = ff_data['ret'] - ff_data['rf']\n",
    "\n",
    "# 데이터를 회귀분석 모델에 피팅시키기\n",
    "ff_model = sm.OLS(y, X).fit()\n",
    "\n",
    "# 회귀분석 결과 출력\n",
    "print(ff_model.summary())\n",
    "\n",
    "# 베타 계수 할당\n",
    "b1, b2, b3 = ff_model.params"
   ]
  },
  {
   "cell_type": "code",
   "execution_count": 19,
   "metadata": {
    "id": "pxrIPzKvWfUu"
   },
   "outputs": [
    {
     "data": {
      "text/plain": [
       "(1.3763185020238795, 0.10959748436431724, -0.7507310403758378)"
      ]
     },
     "execution_count": 19,
     "metadata": {},
     "output_type": "execute_result"
    }
   ],
   "source": [
    "b1, b2, b3"
   ]
  },
  {
   "cell_type": "code",
   "execution_count": 20,
   "metadata": {
    "id": "VMfUyPwMYQc7"
   },
   "outputs": [
    {
     "name": "stdout",
     "output_type": "stream",
     "text": [
      "Expected Yearly Return: 0.0946194671123563\n"
     ]
    }
   ],
   "source": [
    "# 무위험수익률\n",
    "rf = ff_data['rf'].mean()\n",
    "\n",
    "# 시장 위험 프리미엄\n",
    "market_premium = ff_data['beta'].mean()\n",
    "\n",
    "# 사이즈 프리미엄\n",
    "size_premium = ff_data['size'].mean()\n",
    "\n",
    "# 밸류 프리미엄\n",
    "value_premium = ff_data['value'].mean()\n",
    "\n",
    "# 팩터를 활용한 기대수익률 계산\n",
    "# 월간 기대수익률\n",
    "expected_monthly_return = rf + b1 * market_premium + b2 * size_premium + b3 * value_premium\n",
    "\n",
    "# 연간 기대수익률\n",
    "expected_yearly_return = expected_monthly_return * 12\n",
    "\n",
    "# 기대수익률 출력\n",
    "print('Expected Yearly Return: ' + str(expected_yearly_return))"
   ]
  },
  {
   "cell_type": "markdown",
   "metadata": {
    "id": "ciCEGy_Tu-GR"
   },
   "source": [
    "### 시간 가변적 베타 (Time-Varying Beta)\n"
   ]
  },
  {
   "cell_type": "code",
   "execution_count": 21,
   "metadata": {
    "id": "_FOOsttJYUlE"
   },
   "outputs": [],
   "source": [
    "# RollingOLS 임포트\n",
    "from statsmodels.regression.rolling import RollingOLS"
   ]
  },
  {
   "cell_type": "code",
   "execution_count": 22,
   "metadata": {
    "id": "RSv8p2OXvE99"
   },
   "outputs": [],
   "source": [
    "# 3-팩터 롤링 베타 추출\n",
    "betas = RollingOLS.from_formula('ret ~ beta + size + value', data=ff_data, window=36).fit().params"
   ]
  },
  {
   "cell_type": "code",
   "execution_count": 23,
   "metadata": {
    "id": "gM_nj6UfX4oS"
   },
   "outputs": [
    {
     "data": {
      "text/html": [
       "<div>\n",
       "<style scoped>\n",
       "    .dataframe tbody tr th:only-of-type {\n",
       "        vertical-align: middle;\n",
       "    }\n",
       "\n",
       "    .dataframe tbody tr th {\n",
       "        vertical-align: top;\n",
       "    }\n",
       "\n",
       "    .dataframe thead th {\n",
       "        text-align: right;\n",
       "    }\n",
       "</style>\n",
       "<table border=\"1\" class=\"dataframe\">\n",
       "  <thead>\n",
       "    <tr style=\"text-align: right;\">\n",
       "      <th></th>\n",
       "      <th>Intercept</th>\n",
       "      <th>beta</th>\n",
       "      <th>size</th>\n",
       "      <th>value</th>\n",
       "    </tr>\n",
       "  </thead>\n",
       "  <tbody>\n",
       "    <tr>\n",
       "      <th>2000-02-29</th>\n",
       "      <td>NaN</td>\n",
       "      <td>NaN</td>\n",
       "      <td>NaN</td>\n",
       "      <td>NaN</td>\n",
       "    </tr>\n",
       "    <tr>\n",
       "      <th>2000-03-31</th>\n",
       "      <td>NaN</td>\n",
       "      <td>NaN</td>\n",
       "      <td>NaN</td>\n",
       "      <td>NaN</td>\n",
       "    </tr>\n",
       "    <tr>\n",
       "      <th>2000-04-30</th>\n",
       "      <td>NaN</td>\n",
       "      <td>NaN</td>\n",
       "      <td>NaN</td>\n",
       "      <td>NaN</td>\n",
       "    </tr>\n",
       "    <tr>\n",
       "      <th>2000-05-31</th>\n",
       "      <td>NaN</td>\n",
       "      <td>NaN</td>\n",
       "      <td>NaN</td>\n",
       "      <td>NaN</td>\n",
       "    </tr>\n",
       "    <tr>\n",
       "      <th>2000-06-30</th>\n",
       "      <td>NaN</td>\n",
       "      <td>NaN</td>\n",
       "      <td>NaN</td>\n",
       "      <td>NaN</td>\n",
       "    </tr>\n",
       "    <tr>\n",
       "      <th>...</th>\n",
       "      <td>...</td>\n",
       "      <td>...</td>\n",
       "      <td>...</td>\n",
       "      <td>...</td>\n",
       "    </tr>\n",
       "    <tr>\n",
       "      <th>2023-03-31</th>\n",
       "      <td>0.018711</td>\n",
       "      <td>1.227644</td>\n",
       "      <td>-0.375727</td>\n",
       "      <td>-0.584199</td>\n",
       "    </tr>\n",
       "    <tr>\n",
       "      <th>2023-04-30</th>\n",
       "      <td>0.018787</td>\n",
       "      <td>1.263844</td>\n",
       "      <td>-0.355259</td>\n",
       "      <td>-0.579987</td>\n",
       "    </tr>\n",
       "    <tr>\n",
       "      <th>2023-05-31</th>\n",
       "      <td>0.018847</td>\n",
       "      <td>1.276005</td>\n",
       "      <td>-0.348331</td>\n",
       "      <td>-0.576504</td>\n",
       "    </tr>\n",
       "    <tr>\n",
       "      <th>2023-06-30</th>\n",
       "      <td>0.016027</td>\n",
       "      <td>1.272709</td>\n",
       "      <td>-0.417505</td>\n",
       "      <td>-0.549408</td>\n",
       "    </tr>\n",
       "    <tr>\n",
       "      <th>2023-07-31</th>\n",
       "      <td>0.014249</td>\n",
       "      <td>1.237814</td>\n",
       "      <td>-0.367815</td>\n",
       "      <td>-0.541197</td>\n",
       "    </tr>\n",
       "  </tbody>\n",
       "</table>\n",
       "<p>282 rows × 4 columns</p>\n",
       "</div>"
      ],
      "text/plain": [
       "            Intercept      beta      size     value\n",
       "2000-02-29        NaN       NaN       NaN       NaN\n",
       "2000-03-31        NaN       NaN       NaN       NaN\n",
       "2000-04-30        NaN       NaN       NaN       NaN\n",
       "2000-05-31        NaN       NaN       NaN       NaN\n",
       "2000-06-30        NaN       NaN       NaN       NaN\n",
       "...               ...       ...       ...       ...\n",
       "2023-03-31   0.018711  1.227644 -0.375727 -0.584199\n",
       "2023-04-30   0.018787  1.263844 -0.355259 -0.579987\n",
       "2023-05-31   0.018847  1.276005 -0.348331 -0.576504\n",
       "2023-06-30   0.016027  1.272709 -0.417505 -0.549408\n",
       "2023-07-31   0.014249  1.237814 -0.367815 -0.541197\n",
       "\n",
       "[282 rows x 4 columns]"
      ]
     },
     "execution_count": 23,
     "metadata": {},
     "output_type": "execute_result"
    }
   ],
   "source": [
    "betas"
   ]
  },
  {
   "cell_type": "code",
   "execution_count": 24,
   "metadata": {
    "id": "h13AcQfbxnb0"
   },
   "outputs": [
    {
     "data": {
      "text/plain": [
       "<Axes: >"
      ]
     },
     "execution_count": 24,
     "metadata": {},
     "output_type": "execute_result"
    },
    {
     "data": {
      "image/png": "[encoded data removed]",
      "text/plain": [
       "<Figure size 1000x600 with 1 Axes>"
      ]
     },
     "metadata": {},
     "output_type": "display_data"
    }
   ],
   "source": [
    "# 팩터 계수 그래프\n",
    "betas.dropna().plot(figsize=(10, 6))"
   ]
  }
 ],
 "metadata": {
  "colab": {
   "authorship_tag": "ABX9TyNNeI6G00IUYuTh/UyRt5gA",
   "collapsed_sections": [],
   "provenance": []
  },
  "kernelspec": {
   "display_name": "Python 3 (ipykernel)",
   "language": "python",
   "name": "python3"
  },
  "language_info": {
   "codemirror_mode": {
    "name": "ipython",
    "version": 3
   },
   "file_extension": ".py",
   "mimetype": "text/x-python",
   "name": "python",
   "nbconvert_exporter": "python",
   "pygments_lexer": "ipython3",
   "version": "3.11.5"
  }
 },
 "nbformat": 4,
 "nbformat_minor": 1
}
