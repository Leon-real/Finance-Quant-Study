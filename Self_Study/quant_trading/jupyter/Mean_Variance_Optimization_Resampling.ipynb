{
 "cells": [
  {
   "cell_type": "markdown",
   "id": "897e9c17",
   "metadata": {},
   "source": [
    "# 평균 - 분산 최적화\n",
    "- 리샘플링 기법 활용\n",
    "- 과거 데이터로부터 무작위 추출을 하여, 새로운 샘플을 만들고 적용해보는 것\n",
    "- 이를 통해 평균적인 공분산 등 만들어 내는 것"
   ]
  },
  {
   "cell_type": "code",
   "execution_count": 1,
   "id": "1e850f2d",
   "metadata": {},
   "outputs": [],
   "source": [
    "import numpy as np\n",
    "import pandas as pd\n",
    "import matplotlib.pyplot as plt\n",
    "import seaborn as sns\n",
    "import yfinance as yf\n",
    "import scipy.optimize as sco"
   ]
  },
  {
   "cell_type": "code",
   "execution_count": 2,
   "id": "ea90709c",
   "metadata": {},
   "outputs": [
    {
     "name": "stdout",
     "output_type": "stream",
     "text": [
      "[*********************100%%**********************]  9 of 9 completed\n"
     ]
    },
    {
     "data": {
      "text/html": [
       "<div>\n",
       "<style scoped>\n",
       "    .dataframe tbody tr th:only-of-type {\n",
       "        vertical-align: middle;\n",
       "    }\n",
       "\n",
       "    .dataframe tbody tr th {\n",
       "        vertical-align: top;\n",
       "    }\n",
       "\n",
       "    .dataframe thead th {\n",
       "        text-align: right;\n",
       "    }\n",
       "</style>\n",
       "<table border=\"1\" class=\"dataframe\">\n",
       "  <thead>\n",
       "    <tr style=\"text-align: right;\">\n",
       "      <th></th>\n",
       "      <th>XLB</th>\n",
       "      <th>XLE</th>\n",
       "      <th>XLF</th>\n",
       "      <th>XLI</th>\n",
       "      <th>XLK</th>\n",
       "      <th>XLP</th>\n",
       "      <th>XLU</th>\n",
       "      <th>XLV</th>\n",
       "      <th>XLY</th>\n",
       "    </tr>\n",
       "    <tr>\n",
       "      <th>Date</th>\n",
       "      <th></th>\n",
       "      <th></th>\n",
       "      <th></th>\n",
       "      <th></th>\n",
       "      <th></th>\n",
       "      <th></th>\n",
       "      <th></th>\n",
       "      <th></th>\n",
       "      <th></th>\n",
       "    </tr>\n",
       "  </thead>\n",
       "  <tbody>\n",
       "    <tr>\n",
       "      <th>2010-01-04</th>\n",
       "      <td>25.242832</td>\n",
       "      <td>37.471176</td>\n",
       "      <td>9.302436</td>\n",
       "      <td>21.704618</td>\n",
       "      <td>19.069464</td>\n",
       "      <td>18.461494</td>\n",
       "      <td>19.171120</td>\n",
       "      <td>25.007702</td>\n",
       "      <td>25.131828</td>\n",
       "    </tr>\n",
       "    <tr>\n",
       "      <th>2010-01-05</th>\n",
       "      <td>25.324459</td>\n",
       "      <td>37.777004</td>\n",
       "      <td>9.473412</td>\n",
       "      <td>21.781263</td>\n",
       "      <td>19.044882</td>\n",
       "      <td>18.468409</td>\n",
       "      <td>18.942884</td>\n",
       "      <td>24.762442</td>\n",
       "      <td>25.223972</td>\n",
       "    </tr>\n",
       "    <tr>\n",
       "      <th>2010-01-06</th>\n",
       "      <td>25.754816</td>\n",
       "      <td>38.229385</td>\n",
       "      <td>9.492412</td>\n",
       "      <td>21.827244</td>\n",
       "      <td>18.831812</td>\n",
       "      <td>18.454563</td>\n",
       "      <td>19.053926</td>\n",
       "      <td>25.015608</td>\n",
       "      <td>25.257483</td>\n",
       "    </tr>\n",
       "  </tbody>\n",
       "</table>\n",
       "</div>"
      ],
      "text/plain": [
       "                  XLB        XLE       XLF        XLI        XLK        XLP  \\\n",
       "Date                                                                          \n",
       "2010-01-04  25.242832  37.471176  9.302436  21.704618  19.069464  18.461494   \n",
       "2010-01-05  25.324459  37.777004  9.473412  21.781263  19.044882  18.468409   \n",
       "2010-01-06  25.754816  38.229385  9.492412  21.827244  18.831812  18.454563   \n",
       "\n",
       "                  XLU        XLV        XLY  \n",
       "Date                                         \n",
       "2010-01-04  19.171120  25.007702  25.131828  \n",
       "2010-01-05  18.942884  24.762442  25.223972  \n",
       "2010-01-06  19.053926  25.015608  25.257483  "
      ]
     },
     "execution_count": 2,
     "metadata": {},
     "output_type": "execute_result"
    }
   ],
   "source": [
    "# 티커 리스트 정의\n",
    "tickers = ['XLB','XLE','XLF','XLI','XLK','XLP','XLU','XLV','XLY']\n",
    "\n",
    "# 데이터 다운\n",
    "etf = yf.Tickers(tickers)\n",
    "data = etf.history(start=\"2010-01-01\", actions=False)\n",
    "\n",
    "data = data['Close']\n",
    "data.head(3)"
   ]
  },
  {
   "cell_type": "code",
   "execution_count": 3,
   "id": "97327b64",
   "metadata": {},
   "outputs": [],
   "source": [
    "# 일별 수익률\n",
    "rets = data.pct_change().fillna(0)\n",
    "\n",
    "# 수익률 벡터\n",
    "ret_vec = rets.mean() * 252\n",
    "\n",
    "# 공분산 행렬\n",
    "cov_mat = rets.cov() * 252"
   ]
  },
  {
   "cell_type": "markdown",
   "id": "fd8beebb",
   "metadata": {},
   "source": [
    "### 리샘플링 함수 정의"
   ]
  },
  {
   "cell_type": "code",
   "execution_count": 4,
   "id": "5c2db871",
   "metadata": {},
   "outputs": [],
   "source": [
    "# 효율적 경계선 리샘플링 함수\n",
    "# size : 일 수\n",
    "# N_path : 시뮬레이션 수행 횟수\n",
    "# N_ponit : 효율적 경계선의 데이터를 나눠주는 갯수\n",
    "# resampling : 리샘플링 실행 여부\n",
    "def resampled_efficient_frontier(ret_vec, cov_mat, size=252, N_path=50, N_point=50, resampling=True):\n",
    "    # 자산 개수\n",
    "    n = len(ret_vec)\n",
    "    \n",
    "    if resampling:\n",
    "        # 리샘플링을 위한 시뮬레이션\n",
    "        ret_vec_stack = np.zeros((N_path, len(ret_vec)))\n",
    "        cov_mat_stack = np.zeros((N_path, len(ret_vec), len(ret_vec)))\n",
    "        \n",
    "        for i in range(N_path):\n",
    "            # 리샘플링 경로 생성\n",
    "            # 다변량 정규분포로부터 임의의 난수 추출\n",
    "            data = np.random.multivariate_normal(ret_vec, cov_mat, size=size)\n",
    "            \n",
    "            # 새롬게 만들어진 기대수익률 벡터\n",
    "            ret_vec_i = data.mean(axis=0)\n",
    "            ret_vec_stack[i, :] = ret_vec_i\n",
    "            \n",
    "            # 새롬게 만들어진 공분산 행렬\n",
    "            cov_mat_i = np.cov(data.T)\n",
    "            cov_mat_stack[i, :, :] = cov_mat_i\n",
    "        \n",
    "        # 새로 업데이트 된 기대수익률 벡터와 공분산 행렬\n",
    "        new_ret_vec = ret_vec_stack.mean(axis=0)\n",
    "        new_cov_mat = cov_mat_stack.mean(axis=0)\n",
    "    else:\n",
    "        new_ret_vec = ret_vec\n",
    "        new_cov_mat = cov_mat\n",
    "        \n",
    "    # 목적함수\n",
    "    def obj_func(weights):\n",
    "        # 투가 가중치\n",
    "        weights = np.array(weights)\n",
    "        \n",
    "        # 포트폴리오 변동성\n",
    "        pvol = np.sqrt(np.dot(weights.T, np.dot(new_cov_mat, weights)))\n",
    "        \n",
    "        return pvol\n",
    "    \n",
    "    # 수익률 수준별 포트폴리오 최적화 수행\n",
    "    trets = np.linspace(0.1, 0.15, N_point)\n",
    "    tvols = []\n",
    "    \n",
    "    # 난수를 활용해 임의의 가중치 데이터 생성\n",
    "    weights = np.random.random(n)\n",
    "    weights /= np.sum(weights)\n",
    "    \n",
    "    # for 문을 돌려 각 목표 수익률에 맞는 포트폴리오 변동성 레벨을 계산하기\n",
    "    for tret in trets:\n",
    "        # 투자 가중치 초기값 = 동일가중\n",
    "        init_guess = np.repeat(1/n, n)\n",
    "        \n",
    "        # 제약조건(포트폴리오 목표수익률, 현금 보유 비중 0)\n",
    "        cons = ({'type' : 'eq', 'fun': lambda x: np.array(np.sum(new_ret_vec * x)) - tret},\n",
    "                {'type' : 'eq', 'fun': lambda x: np.sum(x) - 1})\n",
    "        \n",
    "        # 자산별 경계조건(숏 포지션 불가능)\n",
    "        bnds = tuple((0.0, 1.0) for x in weights)\n",
    "        \n",
    "        # 최적화 알고리즘 수행\n",
    "        res = sco.minimize(obj_func,\n",
    "                          init_guess,\n",
    "                          method='SLSQP',\n",
    "                          bounds=bnds,\n",
    "                          constraints=cons)\n",
    "        # 최적화 알고리즘 통해 찾아낸 최적 포트폴리오의 변동성 값을 리스트에 저장\n",
    "        tvols.append(res['fun'])\n",
    "    \n",
    "    # 포트폴리오 변동성 리스트를 배열로 변환\n",
    "    tvols = np.array(tvols)\n",
    "    \n",
    "    return trets, tvols"
   ]
  },
  {
   "cell_type": "markdown",
   "id": "5c459710",
   "metadata": {},
   "source": [
    "### 시뮬레이션 실행"
   ]
  },
  {
   "cell_type": "code",
   "execution_count": 5,
   "id": "1f130603",
   "metadata": {},
   "outputs": [],
   "source": [
    "# 리샘플링 O\n",
    "new_trets, new_tvols = resampled_efficient_frontier(ret_vec, cov_mat)\n",
    "\n",
    "# 리샘플링 X\n",
    "trets, tvols = resampled_efficient_frontier(ret_vec, cov_mat, resampling=False)"
   ]
  },
  {
   "cell_type": "markdown",
   "id": "278d23ef",
   "metadata": {},
   "source": [
    "### 시각화"
   ]
  },
  {
   "cell_type": "code",
   "execution_count": 8,
   "id": "172fa4af",
   "metadata": {},
   "outputs": [
    {
     "data": {
      "image/png": "[encoded data removed]",
      "text/plain": [
       "<Figure size 1000x1000 with 1 Axes>"
      ]
     },
     "metadata": {},
     "output_type": "display_data"
    }
   ],
   "source": [
    "plt.figure(figsize=(10,10))\n",
    "plt.plot(tvols, trets, marker='x', label='Original')\n",
    "plt.plot(new_tvols, new_trets, marker='o', label='Resampled')\n",
    "plt.legend()\n",
    "plt.show()"
   ]
  },
  {
   "cell_type": "code",
   "execution_count": null,
   "id": "0234b608",
   "metadata": {},
   "outputs": [],
   "source": []
  },
  {
   "cell_type": "code",
   "execution_count": null,
   "id": "2c465d8c",
   "metadata": {},
   "outputs": [],
   "source": []
  },
  {
   "cell_type": "code",
   "execution_count": null,
   "id": "1454f58c",
   "metadata": {},
   "outputs": [],
   "source": []
  },
  {
   "cell_type": "code",
   "execution_count": null,
   "id": "3094f7b2",
   "metadata": {},
   "outputs": [],
   "source": []
  },
  {
   "cell_type": "code",
   "execution_count": null,
   "id": "2355d285",
   "metadata": {},
   "outputs": [],
   "source": []
  },
  {
   "cell_type": "code",
   "execution_count": null,
   "id": "c9776d4e",
   "metadata": {},
   "outputs": [],
   "source": []
  },
  {
   "cell_type": "code",
   "execution_count": null,
   "id": "16c42f5f",
   "metadata": {},
   "outputs": [],
   "source": []
  },
  {
   "cell_type": "code",
   "execution_count": null,
   "id": "860aa8b5",
   "metadata": {},
   "outputs": [],
   "source": []
  },
  {
   "cell_type": "code",
   "execution_count": null,
   "id": "9a798fa5",
   "metadata": {},
   "outputs": [],
   "source": []
  },
  {
   "cell_type": "code",
   "execution_count": null,
   "id": "9ef56613",
   "metadata": {},
   "outputs": [],
   "source": []
  },
  {
   "cell_type": "code",
   "execution_count": null,
   "id": "ce92d414",
   "metadata": {},
   "outputs": [],
   "source": []
  },
  {
   "cell_type": "code",
   "execution_count": null,
   "id": "9375bfab",
   "metadata": {},
   "outputs": [],
   "source": []
  },
  {
   "cell_type": "code",
   "execution_count": null,
   "id": "c71cdc2e",
   "metadata": {},
   "outputs": [],
   "source": []
  },
  {
   "cell_type": "code",
   "execution_count": null,
   "id": "cb01ff95",
   "metadata": {},
   "outputs": [],
   "source": []
  },
  {
   "cell_type": "code",
   "execution_count": null,
   "id": "12754c68",
   "metadata": {},
   "outputs": [],
   "source": []
  },
  {
   "cell_type": "code",
   "execution_count": null,
   "id": "e4d869c1",
   "metadata": {},
   "outputs": [],
   "source": []
  },
  {
   "cell_type": "code",
   "execution_count": null,
   "id": "78a1b814",
   "metadata": {},
   "outputs": [],
   "source": []
  },
  {
   "cell_type": "code",
   "execution_count": null,
   "id": "1412a598",
   "metadata": {},
   "outputs": [],
   "source": []
  },
  {
   "cell_type": "code",
   "execution_count": null,
   "id": "2304636a",
   "metadata": {},
   "outputs": [],
   "source": []
  }
 ],
 "metadata": {
  "kernelspec": {
   "display_name": "Python 3 (ipykernel)",
   "language": "python",
   "name": "python3"
  },
  "language_info": {
   "codemirror_mode": {
    "name": "ipython",
    "version": 3
   },
   "file_extension": ".py",
   "mimetype": "text/x-python",
   "name": "python",
   "nbconvert_exporter": "python",
   "pygments_lexer": "ipython3",
   "version": "3.11.5"
  }
 },
 "nbformat": 4,
 "nbformat_minor": 5
}
