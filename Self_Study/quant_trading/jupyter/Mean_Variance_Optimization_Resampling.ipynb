{
 "cells": [
  {
   "cell_type": "markdown",
   "id": "0026930d",
   "metadata": {},
   "source": [
    "# 평균 - 분산 최적화\n",
    "- 리샘플링 기법 활용\n",
    "- 과거 데이터로부터 무작위 추출을 하여, 새로운 샘플을 만들고 적용해보는 것\n",
    "- 이를 통해 평균적인 공분산 등 만들어 내는 것"
   ]
  },
  {
   "cell_type": "code",
   "execution_count": 1,
   "id": "7317513c",
   "metadata": {},
   "outputs": [],
   "source": [
    "import numpy as np\n",
    "import pandas as pd\n",
    "import matplotlib.pyplot as plt\n",
    "import seaborn as sns\n",
    "import yfinance as yf\n",
    "import scipy.optimize as sco"
   ]
  },
  {
   "cell_type": "code",
   "execution_count": 6,
   "id": "0ea48744",
   "metadata": {},
   "outputs": [
    {
     "name": "stdout",
     "output_type": "stream",
     "text": [
      "[*********************100%%**********************]  9 of 9 completed\n"
     ]
    },
    {
     "data": {
      "text/html": [
       "<div>\n",
       "<style scoped>\n",
       "    .dataframe tbody tr th:only-of-type {\n",
       "        vertical-align: middle;\n",
       "    }\n",
       "\n",
       "    .dataframe tbody tr th {\n",
       "        vertical-align: top;\n",
       "    }\n",
       "\n",
       "    .dataframe thead th {\n",
       "        text-align: right;\n",
       "    }\n",
       "</style>\n",
       "<table border=\"1\" class=\"dataframe\">\n",
       "  <thead>\n",
       "    <tr style=\"text-align: right;\">\n",
       "      <th></th>\n",
       "      <th>XLB</th>\n",
       "      <th>XLE</th>\n",
       "      <th>XLF</th>\n",
       "      <th>XLI</th>\n",
       "      <th>XLK</th>\n",
       "      <th>XLP</th>\n",
       "      <th>XLU</th>\n",
       "      <th>XLV</th>\n",
       "      <th>XLY</th>\n",
       "    </tr>\n",
       "    <tr>\n",
       "      <th>Date</th>\n",
       "      <th></th>\n",
       "      <th></th>\n",
       "      <th></th>\n",
       "      <th></th>\n",
       "      <th></th>\n",
       "      <th></th>\n",
       "      <th></th>\n",
       "      <th></th>\n",
       "      <th></th>\n",
       "    </tr>\n",
       "  </thead>\n",
       "  <tbody>\n",
       "    <tr>\n",
       "      <th>2015-01-02</th>\n",
       "      <td>40.771942</td>\n",
       "      <td>55.437855</td>\n",
       "      <td>16.930059</td>\n",
       "      <td>47.938213</td>\n",
       "      <td>36.769955</td>\n",
       "      <td>38.382538</td>\n",
       "      <td>35.621895</td>\n",
       "      <td>59.491104</td>\n",
       "      <td>64.595932</td>\n",
       "    </tr>\n",
       "    <tr>\n",
       "      <th>2015-01-05</th>\n",
       "      <td>39.732727</td>\n",
       "      <td>53.144497</td>\n",
       "      <td>16.574074</td>\n",
       "      <td>46.818432</td>\n",
       "      <td>36.208645</td>\n",
       "      <td>38.112625</td>\n",
       "      <td>35.186390</td>\n",
       "      <td>59.187698</td>\n",
       "      <td>63.360481</td>\n",
       "    </tr>\n",
       "    <tr>\n",
       "      <th>2015-01-06</th>\n",
       "      <td>39.380737</td>\n",
       "      <td>52.363792</td>\n",
       "      <td>16.320772</td>\n",
       "      <td>46.241577</td>\n",
       "      <td>35.772083</td>\n",
       "      <td>38.064999</td>\n",
       "      <td>35.208908</td>\n",
       "      <td>58.988354</td>\n",
       "      <td>62.729198</td>\n",
       "    </tr>\n",
       "  </tbody>\n",
       "</table>\n",
       "</div>"
      ],
      "text/plain": [
       "                  XLB        XLE        XLF        XLI        XLK        XLP  \\\n",
       "Date                                                                           \n",
       "2015-01-02  40.771942  55.437855  16.930059  47.938213  36.769955  38.382538   \n",
       "2015-01-05  39.732727  53.144497  16.574074  46.818432  36.208645  38.112625   \n",
       "2015-01-06  39.380737  52.363792  16.320772  46.241577  35.772083  38.064999   \n",
       "\n",
       "                  XLU        XLV        XLY  \n",
       "Date                                         \n",
       "2015-01-02  35.621895  59.491104  64.595932  \n",
       "2015-01-05  35.186390  59.187698  63.360481  \n",
       "2015-01-06  35.208908  58.988354  62.729198  "
      ]
     },
     "execution_count": 6,
     "metadata": {},
     "output_type": "execute_result"
    }
   ],
   "source": [
    "# 티커 리스트 정의\n",
    "tickers = ['XLB','XLE','XLF','XLI','XLK','XLP','XLU','XLV','XLY']\n",
    "\n",
    "# 데이터 다운\n",
    "etf = yf.Tickers(tickers)\n",
    "data = etf.history(start=\"2015-01-01\", actions=False)\n",
    "\n",
    "data = data['Close']\n",
    "data.head(3)"
   ]
  },
  {
   "cell_type": "code",
   "execution_count": 7,
   "id": "5618dbde",
   "metadata": {},
   "outputs": [],
   "source": [
    "# 일별 수익률\n",
    "rets = data.pct_change().fillna(0)\n",
    "\n",
    "# 수익률 벡터\n",
    "ret_vec = rets.mean() * 252\n",
    "\n",
    "# 공분산 행렬\n",
    "cov_mat = rets.cov() * 252"
   ]
  },
  {
   "cell_type": "code",
   "execution_count": 15,
   "id": "017d79e1",
   "metadata": {},
   "outputs": [],
   "source": [
    "# 효율적 경계선 리샘플링 함수\n",
    "def resampled_efficient_frontier(ret_vec, cov_mat, size=252, N_path=50, N_point=50, resampling=True):\n",
    "    # 자산 개수\n",
    "    n = len(ret_vec)\n",
    "    \n",
    "    if resampling:\n",
    "        # 리샘플링을 위한 시뮬레이션\n",
    "        ret_vec_stack = np.zeros((N_path, len(ret_vec)))\n",
    "        cov_mat_stack = np.zeros((N_path, len(ret_vec), len(ret_vec)))\n",
    "        \n",
    "        for i in range(N_path):\n",
    "            # 리샘플링 경로 생성\n",
    "            # 다변량 정규분포로부터 임의의 난수 추출\n",
    "            data = np.random.multivariate_normal(ret_vec, cov_mat, size=size)\n",
    "            \n",
    "            # 새롬게 만들어진 기대수익률 벡터\n",
    "            ret_vec_i = data.mean(axis=0)\n",
    "            ret_vec_stack[i, :] = ret_vec_i\n",
    "            \n",
    "            # 새롬게 만들어진 공분산 행렬\n",
    "            cov_mat_i = np.cov(data.T)\n",
    "            cov_mat_stack[i, :, :] = cov_mat_i\n",
    "        \n",
    "        # 새로 업데이트 된 기대수익률 벡터와 공분산 행렬\n",
    "        new_ret_vec = ret_vec_stack.mean(axis=0)\n",
    "        new_cov_mat = cov_mat_stack.mean(axis=0)\n",
    "    else:\n",
    "        new_ret_vec = ret_vec\n",
    "        new_cov_mat = cov_mat\n",
    "        \n",
    "    # 목적함수\n",
    "    def obj_func(weights):\n",
    "        # 투가 가중치\n",
    "        weights = np.array(weights)\n",
    "        \n",
    "        # 포트폴리오 변동성\n",
    "        pvol = np.sqrt(np.dot(weights.T, np.dot(new_cov_mat, weights)))\n",
    "        \n",
    "        return pvol\n",
    "    \n",
    "    # 수익률 수준별 포트폴리오 최적화 수행\n",
    "    trets = np.linspace(0.1, 0.15, N_point)\n",
    "    tvols = []\n",
    "    \n",
    "    # 난수를 활용해 임의의 가중치 데이터 생성\n",
    "    weights = np.random.random(n)\n",
    "    weights /= np.sum(weights)\n",
    "    \n",
    "    # for 문을 돌려 각 목표 수익률에 맞는 포트폴리오 변동성 레벨을 계산하기\n",
    "    for tret in trets:\n",
    "        # 투자 가중치 초기값 = 동일가중\n",
    "        init_guess = np.repeat(1/n, n)\n",
    "        \n",
    "        # 제약조건(포트폴리오 목표수익률, 현금 보유 비중 0)\n",
    "        cons = ({'type' : 'eq', 'fun': lambda x: np.array(np.sum(new_ret_vec * x)) - tret},\n",
    "                {'type' : 'eq', 'fun': lambda x: np.sum(x) - 1})\n",
    "        \n",
    "        # 자산별 경계조건(숏 포지션 불가능)\n",
    "        bnds = tuple((0.0, 1.0) for x in weights)\n",
    "        \n",
    "        # 최적화 알고리즘 수행\n",
    "        res = sco.minimize(obj_func,\n",
    "                          init_guess,\n",
    "                          method='SLSQP',\n",
    "                          bounds=bnds,\n",
    "                          constraints=cons)\n",
    "        # 최적화 알고리즘 통해 찾아낸 최적 포트폴리오의 변동성 값을 리스트에 저장\n",
    "        tvols.append(res['fun'])\n",
    "    \n",
    "    # 포트폴리오 변동성 리스트를 배열로 변환\n",
    "    tvols = np.array(tvols)\n",
    "    \n",
    "    return trets, tvols"
   ]
  },
  {
   "cell_type": "code",
   "execution_count": 16,
   "id": "382285ff",
   "metadata": {},
   "outputs": [],
   "source": [
    "# 리샘플링 O\n",
    "new_trets, new_tvols = resampled_efficient_frontier(ret_vec, cov_mat)\n",
    "\n",
    "# 리샘플링 X\n",
    "trets, tvols = resampled_efficient_frontier(ret_vec, cov_mat, resampling=False)"
   ]
  },
  {
   "cell_type": "markdown",
   "id": "5671914e",
   "metadata": {},
   "source": [
    "### 시각화"
   ]
  },
  {
   "cell_type": "code",
   "execution_count": 17,
   "id": "a54c65f3",
   "metadata": {},
   "outputs": [
    {
     "data": {
      "text/plain": [
       "[<matplotlib.lines.Line2D at 0x18b2b170c10>]"
      ]
     },
     "execution_count": 17,
     "metadata": {},
     "output_type": "execute_result"
    },
    {
     "data": {
      "image/png": "[encoded data removed]",
      "text/plain": [
       "<Figure size 1000x1000 with 1 Axes>"
      ]
     },
     "metadata": {},
     "output_type": "display_data"
    }
   ],
   "source": [
    "plt.figure(figsize=(10,10))\n",
    "plt.plot(tvols, trets, marker='x', label='Original')\n",
    "plt.plot(new_tvols, new_trets, marker='o', label='Original')"
   ]
  },
  {
   "cell_type": "code",
   "execution_count": null,
   "id": "1b9a0deb",
   "metadata": {},
   "outputs": [],
   "source": []
  },
  {
   "cell_type": "code",
   "execution_count": null,
   "id": "2148f446",
   "metadata": {},
   "outputs": [],
   "source": []
  },
  {
   "cell_type": "code",
   "execution_count": null,
   "id": "4c078b88",
   "metadata": {},
   "outputs": [],
   "source": []
  },
  {
   "cell_type": "code",
   "execution_count": null,
   "id": "12e8eaf4",
   "metadata": {},
   "outputs": [],
   "source": []
  },
  {
   "cell_type": "code",
   "execution_count": null,
   "id": "b110a8ae",
   "metadata": {},
   "outputs": [],
   "source": []
  },
  {
   "cell_type": "code",
   "execution_count": null,
   "id": "e51f3584",
   "metadata": {},
   "outputs": [],
   "source": []
  },
  {
   "cell_type": "code",
   "execution_count": null,
   "id": "1b51a6a0",
   "metadata": {},
   "outputs": [],
   "source": []
  },
  {
   "cell_type": "code",
   "execution_count": null,
   "id": "3c8eb884",
   "metadata": {},
   "outputs": [],
   "source": []
  },
  {
   "cell_type": "code",
   "execution_count": null,
   "id": "cf502765",
   "metadata": {},
   "outputs": [],
   "source": []
  },
  {
   "cell_type": "code",
   "execution_count": null,
   "id": "22ec30f7",
   "metadata": {},
   "outputs": [],
   "source": []
  },
  {
   "cell_type": "code",
   "execution_count": null,
   "id": "17e33dbb",
   "metadata": {},
   "outputs": [],
   "source": []
  },
  {
   "cell_type": "code",
   "execution_count": null,
   "id": "bd935623",
   "metadata": {},
   "outputs": [],
   "source": []
  },
  {
   "cell_type": "code",
   "execution_count": null,
   "id": "2eb15364",
   "metadata": {},
   "outputs": [],
   "source": []
  },
  {
   "cell_type": "code",
   "execution_count": null,
   "id": "b390d31f",
   "metadata": {},
   "outputs": [],
   "source": []
  },
  {
   "cell_type": "code",
   "execution_count": null,
   "id": "41cee5f1",
   "metadata": {},
   "outputs": [],
   "source": []
  },
  {
   "cell_type": "code",
   "execution_count": null,
   "id": "27e82d89",
   "metadata": {},
   "outputs": [],
   "source": []
  },
  {
   "cell_type": "code",
   "execution_count": null,
   "id": "a95a065c",
   "metadata": {},
   "outputs": [],
   "source": []
  },
  {
   "cell_type": "code",
   "execution_count": null,
   "id": "4e3108fa",
   "metadata": {},
   "outputs": [],
   "source": []
  },
  {
   "cell_type": "code",
   "execution_count": null,
   "id": "0f173550",
   "metadata": {},
   "outputs": [],
   "source": []
  }
 ],
 "metadata": {
  "kernelspec": {
   "display_name": "Python 3 (ipykernel)",
   "language": "python",
   "name": "python3"
  },
  "language_info": {
   "codemirror_mode": {
    "name": "ipython",
    "version": 3
   },
   "file_extension": ".py",
   "mimetype": "text/x-python",
   "name": "python",
   "nbconvert_exporter": "python",
   "pygments_lexer": "ipython3",
   "version": "3.11.5"
  }
 },
 "nbformat": 4,
 "nbformat_minor": 5
}
